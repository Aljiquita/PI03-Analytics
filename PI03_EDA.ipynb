{
 "cells": [
  {
   "cell_type": "code",
   "execution_count": 181,
   "metadata": {},
   "outputs": [],
   "source": [
    "import pandas as pd\n",
    "import numpy as np"
   ]
  },
  {
   "cell_type": "code",
   "execution_count": 182,
   "metadata": {},
   "outputs": [],
   "source": [
    "# Importamos la  Data\n",
    "df = pd.read_csv(\"./DataSet/AccidentesAviones.csv\")\n",
    "\n",
    "# Analizando debia al contenido de la data, Power BI no genera las filas correctamente\n",
    "# por lotanto se crea un archivo CSV con \";\" para evitar este problema\n",
    "df.to_csv(\"./DataSet/AccidentesAviones_puntoYcoma.csv\", sep=\";\", index=False)\n",
    "\n",
    "# Continuamos nuestro trabajo con la nueva dada\n",
    "df = pd.read_csv(\"DataSet\\AccidentesAviones_puntoYcoma.csv\", sep=';')"
   ]
  },
  {
   "attachments": {},
   "cell_type": "markdown",
   "metadata": {},
   "source": [
    "# ***Análisis exploratorio de los datos: (Exploratory Data Analysis-EDA)***\n",
    "### Analizaremos columna por columna su información y haremos recomendaciones"
   ]
  },
  {
   "attachments": {},
   "cell_type": "markdown",
   "metadata": {},
   "source": [
    "### * Análisis General de la Data"
   ]
  },
  {
   "cell_type": "code",
   "execution_count": 183,
   "metadata": {},
   "outputs": [
    {
     "name": "stdout",
     "output_type": "stream",
     "text": [
      "<class 'pandas.core.frame.DataFrame'>\n",
      "RangeIndex: 5008 entries, 0 to 5007\n",
      "Data columns (total 18 columns):\n",
      " #   Column                  Non-Null Count  Dtype \n",
      "---  ------                  --------------  ----- \n",
      " 0   Unnamed: 0              5008 non-null   int64 \n",
      " 1   fecha                   5008 non-null   object\n",
      " 2   HORA declarada          5008 non-null   object\n",
      " 3   Ruta                    5008 non-null   object\n",
      " 4   OperadOR                5008 non-null   object\n",
      " 5   flight_no               5008 non-null   object\n",
      " 6   route                   5007 non-null   object\n",
      " 7   ac_type                 5008 non-null   object\n",
      " 8   registration            5008 non-null   object\n",
      " 9   cn_ln                   5008 non-null   object\n",
      " 10  all_aboard              5008 non-null   object\n",
      " 11  PASAJEROS A BORDO       5008 non-null   object\n",
      " 12  crew_aboard             5008 non-null   object\n",
      " 13  cantidad de fallecidos  5008 non-null   object\n",
      " 14  passenger_fatalities    5008 non-null   object\n",
      " 15  crew_fatalities         5008 non-null   object\n",
      " 16  ground                  5008 non-null   object\n",
      " 17  summary                 5008 non-null   object\n",
      "dtypes: int64(1), object(17)\n",
      "memory usage: 704.4+ KB\n"
     ]
    }
   ],
   "source": [
    "# Primer imp[recion de la data\n",
    "# - Tenemos una primera fila sin nombre con un tipo int\n",
    "# - El contenido de todas la columnas es de 5008 elementos\n",
    "# - la columnas route tiene 1 elemento null\n",
    "# - se tiene que ajustar el tipo de dato de las columnas Dtype\n",
    " \n",
    "df.info()"
   ]
  },
  {
   "attachments": {},
   "cell_type": "markdown",
   "metadata": {},
   "source": [
    "#### Columna \"Unnamed: 0 \"\n",
    "* Esta primera columna es el numero de conteo de filas de la data original y al no contar co ID se conviene dejarla para una posible identidad futura de la data.\n",
    "*   Por lo mismo no requiere que se cambie su Dtype"
   ]
  },
  {
   "attachments": {},
   "cell_type": "markdown",
   "metadata": {},
   "source": [
    "#### Columna \"fecha\" "
   ]
  },
  {
   "cell_type": "code",
   "execution_count": 184,
   "metadata": {},
   "outputs": [
    {
     "data": {
      "text/plain": [
       "0       September 17, 1908\n",
       "1       September 07, 1909\n",
       "2            July 12, 1912\n",
       "3          August 06, 1913\n",
       "4       September 09, 1913\n",
       "               ...        \n",
       "5003        March 28, 2021\n",
       "5004          May 21, 2021\n",
       "5005         June 10, 2021\n",
       "5006         July 04, 2021\n",
       "5007         July 06, 2021\n",
       "Name: fecha, Length: 5008, dtype: object"
      ]
     },
     "execution_count": 184,
     "metadata": {},
     "output_type": "execute_result"
    }
   ],
   "source": [
    "df[\"fecha\"]"
   ]
  },
  {
   "cell_type": "code",
   "execution_count": 185,
   "metadata": {},
   "outputs": [
    {
     "name": "stdout",
     "output_type": "stream",
     "text": [
      "<class 'pandas.core.series.Series'>\n",
      "RangeIndex: 5008 entries, 0 to 5007\n",
      "Series name: fecha\n",
      "Non-Null Count  Dtype \n",
      "--------------  ----- \n",
      "5008 non-null   object\n",
      "dtypes: object(1)\n",
      "memory usage: 39.3+ KB\n",
      "\n",
      "0\n",
      "La columna 'fecha' no tiene valores nulos.\n",
      "1908-09-17 00:00:00\n"
     ]
    }
   ],
   "source": [
    "df[\"fecha\"].info()\n",
    "print()\n",
    "\n",
    "# Comprobamos si tiene 0\n",
    "print(df[\"fecha\"][df[\"fecha\"] == \"0\"].count())\n",
    "\n",
    "# Corroboramos si tiene nulos\n",
    "columna = 'fecha'\n",
    "tiene_nulos = df[columna].isnull().any()\n",
    "\n",
    "if tiene_nulos:\n",
    "    print(f\"La columna '{columna}' tiene valores nulos.\")\n",
    "else:\n",
    "    print(f\"La columna '{columna}' no tiene valores nulos.\")\n",
    "\n",
    "# Cámbianos su Dtype a fecha\n",
    "df[\"fecha\"] = pd.to_datetime(df[\"fecha\"])\n",
    "print(df[\"fecha\"].iloc[0])\n"
   ]
  },
  {
   "attachments": {},
   "cell_type": "markdown",
   "metadata": {},
   "source": [
    "#### Columna \"HORA declarada\" "
   ]
  },
  {
   "cell_type": "code",
   "execution_count": 186,
   "metadata": {},
   "outputs": [
    {
     "name": "stdout",
     "output_type": "stream",
     "text": [
      "<class 'pandas.core.series.Series'>\n",
      "RangeIndex: 5008 entries, 0 to 5007\n",
      "Series name: HORA declarada\n",
      "Non-Null Count  Dtype \n",
      "--------------  ----- \n",
      "5008 non-null   object\n",
      "dtypes: object(1)\n",
      "memory usage: 39.3+ KB\n",
      "\n",
      "Total de '?' = 1504 de 5008\n",
      "Total de '0' = 0 de 5008\n",
      "3504\n"
     ]
    }
   ],
   "source": [
    "df[\"HORA declarada\"].info()\n",
    "print()\n",
    "# se detecta la precensia de \"?\"\n",
    "anomaliaHora = df[\"HORA declarada\"][df[\"HORA declarada\"] == \"?\"].count()\n",
    "nd = df[\"HORA declarada\"].count()\n",
    "print(f\"Total de '?' = {anomaliaHora} de {nd}\")\n",
    "\n",
    "# indagamos si tenemos valores con '000'\n",
    "anomalia2 = df[\"HORA declarada\"][df[\"HORA declarada\"] == \"000\"].count()\n",
    "nd = df[\"HORA declarada\"].count()\n",
    "print(f\"Total de '0' = {anomalia2} de {nd}\")\n",
    "\n",
    "# Creamos una columna de prueba para saver si la podemos pasar a una hora\n",
    "hdf = df[\"HORA declarada\"]\n",
    "# eliminamos os valores con '?'\n",
    "hdf = hdf.drop(hdf[hdf == '?'].index)\n",
    "print(hdf.count())\n",
    "# seria irrelevante tener en cuenta esta columna \"hora\" si eliminamos el \"?\" \n",
    "# quedaría con 2/3 partes, 3504 datos  \n",
    "\n",
    "\n"
   ]
  },
  {
   "attachments": {},
   "cell_type": "markdown",
   "metadata": {},
   "source": [
    "### Columna \"Ruta\" - creeris que es el lugar del accidente  "
   ]
  },
  {
   "cell_type": "code",
   "execution_count": 187,
   "metadata": {},
   "outputs": [
    {
     "name": "stdout",
     "output_type": "stream",
     "text": [
      "<class 'pandas.core.series.Series'>\n",
      "RangeIndex: 5008 entries, 0 to 5007\n",
      "Series name: Ruta\n",
      "Non-Null Count  Dtype \n",
      "--------------  ----- \n",
      "5008 non-null   object\n",
      "dtypes: object(1)\n",
      "memory usage: 39.3+ KB\n",
      "\n",
      "Cantidad de valores en 0 0\n",
      "Total de '?' = 5 de 5008\n",
      "Total de '?' = 0 de 5008\n"
     ]
    },
    {
     "name": "stderr",
     "output_type": "stream",
     "text": [
      "C:\\Users\\Alberto\\AppData\\Local\\Temp\\ipykernel_6704\\3890326921.py:15: SettingWithCopyWarning: \n",
      "A value is trying to be set on a copy of a slice from a DataFrame\n",
      "\n",
      "See the caveats in the documentation: https://pandas.pydata.org/pandas-docs/stable/user_guide/indexing.html#returning-a-view-versus-a-copy\n",
      "  df[\"Ruta\"][df[\"Ruta\"] == \"?\"] =  'Lugar del accidente no Definida'\n"
     ]
    }
   ],
   "source": [
    "\n",
    "# la info de la data nos informa que no tiene nulos\n",
    "df[\"Ruta\"].info()\n",
    "print()\n",
    "\n",
    "# Buscamos valores en 0\n",
    "ceros = df[\"Ruta\"][df[\"Ruta\"] == \"0\"].count()\n",
    "print(f\"Cantidad de valores en 0 {ceros}\")\n",
    "\n",
    "# se detecta la precensia de \"?\"\n",
    "# se detectaron 5 valores con '?' \n",
    "anomaliaRuta = df[\"Ruta\"][df[\"Ruta\"] == \"?\"].count()\n",
    "nd = df[\"Ruta\"].count()\n",
    "print(f\"Total de '?' = {anomaliaRuta} de {nd}\")\n",
    "# Los valores con '?' se cambian a 'Ruta no Definida'\n",
    "df[\"Ruta\"][df[\"Ruta\"] == \"?\"] =  'Lugar del accidente no Definida'\n",
    "anomaliaRuta = df[\"Ruta\"][df[\"Ruta\"] == \"?\"].count()\n",
    "nd = df[\"Ruta\"].count()\n",
    "print(f\"Total de '?' = {anomaliaRuta} de {nd}\")\n"
   ]
  },
  {
   "attachments": {},
   "cell_type": "markdown",
   "metadata": {},
   "source": [
    "### Columna OperadOR"
   ]
  },
  {
   "cell_type": "code",
   "execution_count": 188,
   "metadata": {},
   "outputs": [
    {
     "name": "stdout",
     "output_type": "stream",
     "text": [
      "<class 'pandas.core.series.Series'>\n",
      "RangeIndex: 5008 entries, 0 to 5007\n",
      "Series name: Operador\n",
      "Non-Null Count  Dtype \n",
      "--------------  ----- \n",
      "5008 non-null   object\n",
      "dtypes: object(1)\n",
      "memory usage: 39.3+ KB\n",
      "\n",
      "Cantidad de valores en 0 0\n",
      "Total de '?' = 10 de 5008\n",
      "Total de '?' = 0 de 5008\n"
     ]
    },
    {
     "name": "stderr",
     "output_type": "stream",
     "text": [
      "C:\\Users\\Alberto\\AppData\\Local\\Temp\\ipykernel_6704\\1110301785.py:18: SettingWithCopyWarning: \n",
      "A value is trying to be set on a copy of a slice from a DataFrame\n",
      "\n",
      "See the caveats in the documentation: https://pandas.pydata.org/pandas-docs/stable/user_guide/indexing.html#returning-a-view-versus-a-copy\n",
      "  df[\"Operador\"][df[\"Operador\"] == \"?\"] =  'Operador no Definida'\n"
     ]
    }
   ],
   "source": [
    "\n",
    "\n",
    "# Cambiamos el nombre de la columnas de OperadOR por Operador\n",
    "df = df.rename(columns={\"OperadOR\": \"Operador\"})\n",
    "\n",
    "# El Dtype de la info me indica que no tiene valores nulos \n",
    "df[\"Operador\"].info()\n",
    "print()\n",
    "\n",
    "# Buscamos valores en 0\n",
    "ceros = df[\"Operador\"][df[\"Operador\"] == \"0\"].count()\n",
    "print(f\"Cantidad de valores en 0 {ceros}\")\n",
    "\n",
    "\n",
    "# se detectaron 10 valores con '?'  \n",
    "anomaliaOperador = df[\"Operador\"][df[\"Operador\"] == \"?\"].count()\n",
    "nd = df[\"Operador\"].count()\n",
    "print(f\"Total de '?' = {anomaliaOperador} de {nd}\")\n",
    "\n",
    "# Los valores con '?' se cambian a 'Operador no Definida'\n",
    "df[\"Operador\"][df[\"Operador\"] == \"?\"] =  'Operador no Definida'\n",
    "anomaliaOperador = df[\"Operador\"][df[\"Operador\"] == \"?\"].count()\n",
    "nd = df[\"Operador\"].count()\n",
    "print(f\"Total de '?' = {anomaliaOperador} de {nd}\")\n",
    "\n",
    "\n"
   ]
  },
  {
   "attachments": {},
   "cell_type": "markdown",
   "metadata": {},
   "source": [
    "### Columna \"flight_no\" -> Numero del vuelo"
   ]
  },
  {
   "cell_type": "code",
   "execution_count": 189,
   "metadata": {},
   "outputs": [
    {
     "name": "stdout",
     "output_type": "stream",
     "text": [
      "<class 'pandas.core.series.Series'>\n",
      "RangeIndex: 5008 entries, 0 to 5007\n",
      "Series name: flight_no\n",
      "Non-Null Count  Dtype \n",
      "--------------  ----- \n",
      "5008 non-null   object\n",
      "dtypes: object(1)\n",
      "memory usage: 39.3+ KB\n",
      "\n",
      "Cantidad de valores en 0 0\n",
      "Cantidad de valores en '-' 36\n",
      "Total de '?' = 3682 de 5008\n",
      "Total de '?' y '-'= 0 de 5008\n"
     ]
    },
    {
     "name": "stderr",
     "output_type": "stream",
     "text": [
      "C:\\Users\\Alberto\\AppData\\Local\\Temp\\ipykernel_6704\\598536747.py:19: SettingWithCopyWarning: \n",
      "A value is trying to be set on a copy of a slice from a DataFrame\n",
      "\n",
      "See the caveats in the documentation: https://pandas.pydata.org/pandas-docs/stable/user_guide/indexing.html#returning-a-view-versus-a-copy\n",
      "  df[\"flight_no\"][(df[\"flight_no\"] == \"?\") | (df[\"flight_no\"] == \"-\")] =  'flight no Definida'\n"
     ]
    },
    {
     "data": {
      "text/plain": [
       "0       flight no Definida\n",
       "1       flight no Definida\n",
       "2       flight no Definida\n",
       "3       flight no Definida\n",
       "4       flight no Definida\n",
       "               ...        \n",
       "5003    flight no Definida\n",
       "5004    flight no Definida\n",
       "5005    flight no Definida\n",
       "5006    flight no Definida\n",
       "5007                   251\n",
       "Name: flight_no, Length: 5008, dtype: object"
      ]
     },
     "execution_count": 189,
     "metadata": {},
     "output_type": "execute_result"
    }
   ],
   "source": [
    "# El Dtype de la info me indica que no tiene valores nulos\n",
    "df[\"flight_no\"].info()\n",
    "print()\n",
    "# Buscamos valores en 0\n",
    "ceros = df[\"flight_no\"][df[\"flight_no\"] == \"0\"].count()\n",
    "print(f\"Cantidad de valores en 0 {ceros}\")\n",
    "\n",
    "# Buscamos valores en '-'\n",
    "ceros = df[\"flight_no\"][df[\"flight_no\"] == '-'].count()\n",
    "print(f\"Cantidad de valores en '-' {ceros}\")\n",
    "\n",
    "\n",
    "# se detectaron 3682 valores con '?'  \n",
    "anomaliaflight = df[\"flight_no\"][df[\"flight_no\"] == \"?\"].count()\n",
    "nd = df[\"flight_no\"].count()\n",
    "print(f\"Total de '?' = {anomaliaflight} de {nd}\")\n",
    "\n",
    "# con el fin de unificar criterios cambiamos \"?\" y \"-\" con 'flight no Definida' \n",
    "df[\"flight_no\"][(df[\"flight_no\"] == \"?\") | (df[\"flight_no\"] == \"-\")] =  'flight no Definida'\n",
    "anomaliaflight = df[\"flight_no\"][(df[\"flight_no\"] == \"?\") | (df[\"flight_no\"] == \"-\")].count()\n",
    "nd = df[\"flight_no\"].count()\n",
    "print(f\"Total de '?' y '-'= {anomaliaflight} de {nd}\")\n",
    "\n",
    "df[\"flight_no\"]"
   ]
  },
  {
   "attachments": {},
   "cell_type": "markdown",
   "metadata": {},
   "source": [
    "### Columna route -> ruta"
   ]
  },
  {
   "cell_type": "code",
   "execution_count": 190,
   "metadata": {},
   "outputs": [
    {
     "name": "stdout",
     "output_type": "stream",
     "text": [
      "<class 'pandas.core.series.Series'>\n",
      "RangeIndex: 5008 entries, 0 to 5007\n",
      "Series name: route\n",
      "Non-Null Count  Dtype \n",
      "--------------  ----- \n",
      "5007 non-null   object\n",
      "dtypes: object(1)\n",
      "memory usage: 39.3+ KB\n",
      "\n",
      " Cantidad de valores con nulos 0\n",
      "Cantidad de valores en 0 0\n",
      "Total de '?' = 762 de 5007\n",
      "Total de '-' = 0 de 5007\n",
      "Total de '?' = 0 de 5007\n"
     ]
    },
    {
     "name": "stderr",
     "output_type": "stream",
     "text": [
      "C:\\Users\\Alberto\\AppData\\Local\\Temp\\ipykernel_6704\\1288371291.py:22: SettingWithCopyWarning: \n",
      "A value is trying to be set on a copy of a slice from a DataFrame\n",
      "\n",
      "See the caveats in the documentation: https://pandas.pydata.org/pandas-docs/stable/user_guide/indexing.html#returning-a-view-versus-a-copy\n",
      "  df[\"route\"][(df[\"route\"] == \"?\") | (df[\"route\"] == \"-\")] =  'Ruta no Definida'\n"
     ]
    },
    {
     "data": {
      "text/plain": [
       "0                      Demonstration\n",
       "1                           Air show\n",
       "2                        Test flight\n",
       "3                   Ruta no Definida\n",
       "4                   Ruta no Definida\n",
       "                    ...             \n",
       "5003             Sightseeing Charter\n",
       "5004                Ruta no Definida\n",
       "5005            Naypyidaw - Anisakan\n",
       "5006    Cagayan de Oro-Lumbia - Jolo\n",
       "5007          Petropavlovsk - Palana\n",
       "Name: route, Length: 5008, dtype: object"
      ]
     },
     "execution_count": 190,
     "metadata": {},
     "output_type": "execute_result"
    }
   ],
   "source": [
    "# El Dtype de la info me indica que tenemos 1  valores nulos\n",
    "df[\"route\"].info()\n",
    "print()\n",
    "nulos = df[\"route\"][df[\"route\"].isna()].sum()\n",
    "print(f\" Cantidad de valores con nulos {nulos}\")\n",
    "\n",
    "# Buscamos valores en 0\n",
    "ceros = df[\"route\"][df[\"route\"] == \"0\"].count()\n",
    "print(f\"Cantidad de valores en 0 {ceros}\")\n",
    "\n",
    "# se detectaron 762 valores con '?'  \n",
    "anomaliaflight = df[\"route\"][df[\"route\"] == \"?\"].count()\n",
    "nd = df[\"route\"].count()\n",
    "print(f\"Total de '?' = {anomaliaflight} de {nd}\")\n",
    "\n",
    "# se detectaron 762 valores con '-'  \n",
    "anomaliaflight = df[\"route\"][df[\"route\"] == \"-\"].count()\n",
    "nd = df[\"route\"].count()\n",
    "print(f\"Total de '-' = {anomaliaflight} de {nd}\")\n",
    "\n",
    "# con el fin de unificar criterios cambiamos \"?\"  con 'ruta no Definida' \n",
    "df[\"route\"][(df[\"route\"] == \"?\") | (df[\"route\"] == \"-\")] =  'Ruta no Definida'\n",
    "anomaliaRuta = df[\"route\"][df[\"route\"] == \"?\"].count()\n",
    "nd = df[\"route\"].count()\n",
    "print(f\"Total de '?' = {anomaliaRuta} de {nd}\")\n",
    "\n",
    "df[\"route\"]"
   ]
  },
  {
   "attachments": {},
   "cell_type": "markdown",
   "metadata": {},
   "source": [
    "### Columna ac_type -> tipo de avion"
   ]
  },
  {
   "cell_type": "code",
   "execution_count": 191,
   "metadata": {},
   "outputs": [
    {
     "name": "stdout",
     "output_type": "stream",
     "text": [
      "<class 'pandas.core.series.Series'>\n",
      "RangeIndex: 5008 entries, 0 to 5007\n",
      "Series name: ac_type\n",
      "Non-Null Count  Dtype \n",
      "--------------  ----- \n",
      "5008 non-null   object\n",
      "dtypes: object(1)\n",
      "memory usage: 39.3+ KB\n",
      "\n",
      "Cantidad de valores en 0 0\n",
      "Total de '?' = 13 de 5008\n",
      "Total de '-' = 0 de 5008\n",
      "Total de '?' = 0 de 5008\n"
     ]
    },
    {
     "name": "stderr",
     "output_type": "stream",
     "text": [
      "C:\\Users\\Alberto\\AppData\\Local\\Temp\\ipykernel_6704\\3789203512.py:20: SettingWithCopyWarning: \n",
      "A value is trying to be set on a copy of a slice from a DataFrame\n",
      "\n",
      "See the caveats in the documentation: https://pandas.pydata.org/pandas-docs/stable/user_guide/indexing.html#returning-a-view-versus-a-copy\n",
      "  df[\"ac_type\"][(df[\"ac_type\"] == \"?\") | (df[\"ac_type\"] == \"-\")] =  'Tipo de Avion no Definida'\n"
     ]
    }
   ],
   "source": [
    "# El Dtype de la info me indica que no tiene valores nulos\n",
    "df[\"ac_type\"].info()\n",
    "print()\n",
    "# Buscamos valores en 0\n",
    "ceros = df[\"ac_type\"][df[\"ac_type\"] == \"0\"].count()\n",
    "print(f\"Cantidad de valores en 0 {ceros}\")\n",
    "\n",
    "# se detectaron 762 valores con '?'  \n",
    "anomalia_ac_type = df[\"ac_type\"][df[\"ac_type\"] == \"?\"].count()\n",
    "nd = df[\"ac_type\"].count()\n",
    "print(f\"Total de '?' = {anomalia_ac_type} de {nd}\")\n",
    "\n",
    "\n",
    "# se detectaron 762 valores con '-' \n",
    "anomalia_ac_type = df[\"ac_type\"][df[\"ac_type\"] == \"-\"].count()\n",
    "nd = df[\"ac_type\"].count()\n",
    "print(f\"Total de '-' = {anomalia_ac_type} de {nd}\")\n",
    "\n",
    "# con el fin de unificar criterios cambiamos \"?\"  con 'Tipo de Avion no Definida' \n",
    "df[\"ac_type\"][(df[\"ac_type\"] == \"?\") | (df[\"ac_type\"] == \"-\")] =  'Tipo de Avion no Definida'\n",
    "anomalia_ac_type = df[\"ac_type\"][df[\"ac_type\"] == \"?\"].count()\n",
    "nd = df[\"ac_type\"].count()\n",
    "print(f\"Total de '?' = {anomalia_ac_type} de {nd}\")\n",
    "\n",
    "\n",
    "\n"
   ]
  },
  {
   "attachments": {},
   "cell_type": "markdown",
   "metadata": {},
   "source": [
    "### Columna \"registration\" -> placa"
   ]
  },
  {
   "cell_type": "code",
   "execution_count": 192,
   "metadata": {},
   "outputs": [
    {
     "name": "stderr",
     "output_type": "stream",
     "text": [
      "C:\\Users\\Alberto\\AppData\\Local\\Temp\\ipykernel_6704\\1460649467.py:17: SettingWithCopyWarning: \n",
      "A value is trying to be set on a copy of a slice from a DataFrame\n",
      "\n",
      "See the caveats in the documentation: https://pandas.pydata.org/pandas-docs/stable/user_guide/indexing.html#returning-a-view-versus-a-copy\n",
      "  df[\"registration\"][df[\"registration\"] == \"?\"] =  'Placa de Avion no Definida'\n"
     ]
    },
    {
     "name": "stdout",
     "output_type": "stream",
     "text": [
      "<class 'pandas.core.series.Series'>\n",
      "RangeIndex: 5008 entries, 0 to 5007\n",
      "Series name: registration\n",
      "Non-Null Count  Dtype \n",
      "--------------  ----- \n",
      "5008 non-null   object\n",
      "dtypes: object(1)\n",
      "memory usage: 39.3+ KB\n",
      "\n",
      "Cantidad de valores en 0 0\n",
      "Cantidad de valores en '?' 272\n",
      "Cantidad de valores en '-' 0\n",
      "Total de '?' = 0 de 5008\n"
     ]
    }
   ],
   "source": [
    "df[\"registration\"].info()\n",
    "print()\n",
    "\n",
    "# Buscamos valores en 0\n",
    "ceros = df[\"registration\"][df[\"registration\"] == \"0\"].count()\n",
    "print(f\"Cantidad de valores en 0 {ceros}\")\n",
    "\n",
    "# Buscamos valores en ? se detectaron 272\n",
    "anom = df[\"registration\"][df[\"registration\"] == \"?\"].count()\n",
    "print(f\"Cantidad de valores en '?' {anom}\")\n",
    "\n",
    "# se detectaron 762 valores con '-' \n",
    "anom1 = df[\"registration\"][df[\"registration\"] == \"-\"].count()\n",
    "print(f\"Cantidad de valores en '-' {anom1}\")\n",
    "\n",
    "# con el fin de unificar criterios cambiamos \"?\"  con 'Placa no Definida' \n",
    "df[\"registration\"][df[\"registration\"] == \"?\"] =  'Placa de Avion no Definida'\n",
    "anom = df[\"registration\"][df[\"registration\"] == \"?\"].count()\n",
    "nd = df[\"registration\"].count()\n",
    "print(f\"Total de '?' = {anom} de {nd}\")\n"
   ]
  },
  {
   "attachments": {},
   "cell_type": "markdown",
   "metadata": {},
   "source": [
    "### Columna cn_ln"
   ]
  },
  {
   "cell_type": "code",
   "execution_count": 193,
   "metadata": {},
   "outputs": [
    {
     "name": "stdout",
     "output_type": "stream",
     "text": [
      "<class 'pandas.core.series.Series'>\n",
      "RangeIndex: 5008 entries, 0 to 5007\n",
      "Series name: cn_ln\n",
      "Non-Null Count  Dtype \n",
      "--------------  ----- \n",
      "5008 non-null   object\n",
      "dtypes: object(1)\n",
      "memory usage: 39.3+ KB\n",
      "\n",
      "Cantidad de valores en 0 0\n",
      "Cantidad de valores en '?' 667\n",
      "Cantidad de valores en '-' 0\n",
      "Cantidad de valores en '?' 0\n"
     ]
    },
    {
     "name": "stderr",
     "output_type": "stream",
     "text": [
      "C:\\Users\\Alberto\\AppData\\Local\\Temp\\ipykernel_6704\\1201807368.py:18: SettingWithCopyWarning: \n",
      "A value is trying to be set on a copy of a slice from a DataFrame\n",
      "\n",
      "See the caveats in the documentation: https://pandas.pydata.org/pandas-docs/stable/user_guide/indexing.html#returning-a-view-versus-a-copy\n",
      "  df[\"cn_ln\"][df[\"cn_ln\"] == \"?\"] =  'cn_ln no Definida'\n"
     ]
    }
   ],
   "source": [
    "# No tenemos valores nulos en eat columna\n",
    "df[\"cn_ln\"].info()\n",
    "print()\n",
    "\n",
    "# Buscamos valores en 0\n",
    "ceros = df[\"cn_ln\"][df[\"cn_ln\"] == \"0\"].count()\n",
    "print(f\"Cantidad de valores en 0 {ceros}\")\n",
    "\n",
    "# Buscamos valores en ? = 667\n",
    "anom = df[\"cn_ln\"][df[\"cn_ln\"] == \"?\"].count()\n",
    "print(f\"Cantidad de valores en '?' {anom}\")\n",
    "\n",
    "# Buscamos valores en -\n",
    "anom1 = df[\"cn_ln\"][df[\"cn_ln\"] == \"-\"].count()\n",
    "print(f\"Cantidad de valores en '-' {anom1}\")\n",
    "\n",
    "# con el fin de unificar criterios cambiamos \"?\"  con 'cn_ln no Definida' \n",
    "df[\"cn_ln\"][df[\"cn_ln\"] == \"?\"] =  'cn_ln no Definida'\n",
    "anom = df[\"cn_ln\"][df[\"cn_ln\"] == \"?\"].count()\n",
    "print(f\"Cantidad de valores en '?' {anom}\")\n",
    "\n",
    "\n"
   ]
  },
  {
   "attachments": {},
   "cell_type": "markdown",
   "metadata": {},
   "source": [
    "### Columna all_aboard -> numero de persona a bordo"
   ]
  },
  {
   "cell_type": "code",
   "execution_count": 194,
   "metadata": {},
   "outputs": [
    {
     "name": "stdout",
     "output_type": "stream",
     "text": [
      "<class 'pandas.core.series.Series'>\n",
      "RangeIndex: 5008 entries, 0 to 5007\n",
      "Series name: all_aboard\n",
      "Non-Null Count  Dtype \n",
      "--------------  ----- \n",
      "5008 non-null   object\n",
      "dtypes: object(1)\n",
      "memory usage: 39.3+ KB\n",
      "\n",
      "Cantidad de valores en '0' 5\n",
      "Cantidad de valores en '?' 17\n",
      "Cantidad de valores en '-' 0\n"
     ]
    },
    {
     "name": "stderr",
     "output_type": "stream",
     "text": [
      "C:\\Users\\Alberto\\AppData\\Local\\Temp\\ipykernel_6704\\2418480460.py:17: SettingWithCopyWarning: \n",
      "A value is trying to be set on a copy of a slice from a DataFrame\n",
      "\n",
      "See the caveats in the documentation: https://pandas.pydata.org/pandas-docs/stable/user_guide/indexing.html#returning-a-view-versus-a-copy\n",
      "  df[\"all_aboard\"][(df[\"all_aboard\"] == \"?\")] =  '0'\n"
     ]
    },
    {
     "name": "stdout",
     "output_type": "stream",
     "text": [
      "Cantidad de valores en '?'  0\n",
      "<class 'pandas.core.series.Series'>\n",
      "RangeIndex: 5008 entries, 0 to 5007\n",
      "Series name: all_aboard\n",
      "Non-Null Count  Dtype\n",
      "--------------  -----\n",
      "5008 non-null   int32\n",
      "dtypes: int32(1)\n",
      "memory usage: 19.7 KB\n"
     ]
    }
   ],
   "source": [
    "# No tenemos nulos\n",
    "df[\"all_aboard\"].info()\n",
    "print()\n",
    "# Buscamos valores en 0\n",
    "ceros = df[\"all_aboard\"][df[\"all_aboard\"] == \"0\"].count()\n",
    "print(f\"Cantidad de valores en '0' {ceros}\")\n",
    "\n",
    "# Buscar valore en ? 17\n",
    "anom = df[\"all_aboard\"][df[\"all_aboard\"] == '?'].count()\n",
    "print(f\"Cantidad de valores en '?' {anom}\")\n",
    "\n",
    "# Buscar valore en - \n",
    "anom1 = df[\"all_aboard\"][df[\"all_aboard\"] == '-'].count()\n",
    "print(f\"Cantidad de valores en '-' {anom1}\")\n",
    "\n",
    "# con el fin de unificar criterios cambiamos \"?\"  con '0' \n",
    "df[\"all_aboard\"][(df[\"all_aboard\"] == \"?\")] =  '0'\n",
    "anom = df[\"all_aboard\"][df[\"all_aboard\"] == \"?\" ].count()\n",
    "print(f\"Cantidad de valores en '?'  {anom}\")\n",
    "\n",
    "# convertir la columna su Dtype a int\n",
    "df[\"all_aboard\"]= df[\"all_aboard\"].astype(int)\n",
    "\n",
    "df[\"all_aboard\"].info()\n",
    "\n"
   ]
  },
  {
   "attachments": {},
   "cell_type": "markdown",
   "metadata": {},
   "source": [
    "### Columna PASAJEROS A BORDO -> numero de pasajeros fuera de la tripulación"
   ]
  },
  {
   "cell_type": "code",
   "execution_count": 195,
   "metadata": {},
   "outputs": [
    {
     "name": "stdout",
     "output_type": "stream",
     "text": [
      "<class 'pandas.core.series.Series'>\n",
      "RangeIndex: 5008 entries, 0 to 5007\n",
      "Series name: PASAJEROS A BORDO\n",
      "Non-Null Count  Dtype \n",
      "--------------  ----- \n",
      "5008 non-null   object\n",
      "dtypes: object(1)\n",
      "memory usage: 39.3+ KB\n",
      "\n",
      "Cantidad de valores en '0' 869\n",
      "Cantidad de valores en '-' 0\n",
      "Cantidad de valores en '?' 221\n",
      "Cantidad de valores en '?' 0\n",
      "Cantidad de valores en '0' 1090\n",
      "<class 'pandas.core.series.Series'>\n",
      "RangeIndex: 5008 entries, 0 to 5007\n",
      "Series name: PASAJEROS A BORDO\n",
      "Non-Null Count  Dtype\n",
      "--------------  -----\n",
      "5008 non-null   int32\n",
      "dtypes: int32(1)\n",
      "memory usage: 19.7 KB\n"
     ]
    },
    {
     "name": "stderr",
     "output_type": "stream",
     "text": [
      "C:\\Users\\Alberto\\AppData\\Local\\Temp\\ipykernel_6704\\2859418455.py:18: SettingWithCopyWarning: \n",
      "A value is trying to be set on a copy of a slice from a DataFrame\n",
      "\n",
      "See the caveats in the documentation: https://pandas.pydata.org/pandas-docs/stable/user_guide/indexing.html#returning-a-view-versus-a-copy\n",
      "  df[\"PASAJEROS A BORDO\"][df[\"PASAJEROS A BORDO\"] == \"?\"] =  '0'\n"
     ]
    }
   ],
   "source": [
    "# No tenemos nulos\n",
    "df[\"PASAJEROS A BORDO\"].info()\n",
    "print()\n",
    "\n",
    "# Buscamos valores en 0\n",
    "ceros = df[\"PASAJEROS A BORDO\"][df[\"PASAJEROS A BORDO\"] == '0'].count()\n",
    "print(f\"Cantidad de valores en '0' {ceros}\")\n",
    "\n",
    "# Buscamos valores en -\n",
    "anom = df[\"PASAJEROS A BORDO\"][df[\"PASAJEROS A BORDO\"] == \"-\"].count()\n",
    "print(f\"Cantidad de valores en '-' {anom}\")\n",
    "\n",
    "# Buscamos valores en ? 221\n",
    "anom1 = df[\"PASAJEROS A BORDO\"][df[\"PASAJEROS A BORDO\"] == \"?\"].count()\n",
    "print(f\"Cantidad de valores en '?' {anom1}\")\n",
    "\n",
    "# con el fin de unificar criterios cambiamos \"?\"  con '0' \n",
    "df[\"PASAJEROS A BORDO\"][df[\"PASAJEROS A BORDO\"] == \"?\"] =  '0'\n",
    "anom1 = df[\"PASAJEROS A BORDO\"][df[\"PASAJEROS A BORDO\"] == \"?\"].count()\n",
    "print(f\"Cantidad de valores en '?' {anom1}\")\n",
    "ceros = df[\"PASAJEROS A BORDO\"][df[\"PASAJEROS A BORDO\"] == '0'].count()\n",
    "print(f\"Cantidad de valores en '0' {ceros}\")\n",
    "\n",
    "\n",
    "# convertir la columna su Dtype a int\n",
    "df[\"PASAJEROS A BORDO\"]= df[\"PASAJEROS A BORDO\"].astype(int)\n",
    "\n",
    "df[\"PASAJEROS A BORDO\"].info()\n",
    "\n"
   ]
  },
  {
   "attachments": {},
   "cell_type": "markdown",
   "metadata": {},
   "source": [
    "### Columna crew_aboard  -> tripulación"
   ]
  },
  {
   "cell_type": "code",
   "execution_count": 196,
   "metadata": {},
   "outputs": [
    {
     "name": "stdout",
     "output_type": "stream",
     "text": [
      "<class 'pandas.core.series.Series'>\n",
      "RangeIndex: 5008 entries, 0 to 5007\n",
      "Series name: crew_aboard\n",
      "Non-Null Count  Dtype \n",
      "--------------  ----- \n",
      "5008 non-null   object\n",
      "dtypes: object(1)\n",
      "memory usage: 39.3+ KB\n",
      "\n",
      "Cantidad de valores en '0' 7\n",
      "Cantidad de valores en '-' 0\n",
      "Cantidad de valores en '?' 219\n",
      "Cantidad de valores en '?' 0\n",
      "<class 'pandas.core.series.Series'>\n",
      "RangeIndex: 5008 entries, 0 to 5007\n",
      "Series name: crew_aboard\n",
      "Non-Null Count  Dtype\n",
      "--------------  -----\n",
      "5008 non-null   int32\n",
      "dtypes: int32(1)\n",
      "memory usage: 19.7 KB\n"
     ]
    },
    {
     "name": "stderr",
     "output_type": "stream",
     "text": [
      "C:\\Users\\Alberto\\AppData\\Local\\Temp\\ipykernel_6704\\2490794663.py:16: SettingWithCopyWarning: \n",
      "A value is trying to be set on a copy of a slice from a DataFrame\n",
      "\n",
      "See the caveats in the documentation: https://pandas.pydata.org/pandas-docs/stable/user_guide/indexing.html#returning-a-view-versus-a-copy\n",
      "  df[\"crew_aboard\"][df[\"crew_aboard\"] == \"?\"] =  '0'\n"
     ]
    }
   ],
   "source": [
    "df[\"crew_aboard\"].info()\n",
    "print()\n",
    "# Buscamos valores en 0\n",
    "anom = df[\"crew_aboard\"][df[\"crew_aboard\"] == \"0\"].count()\n",
    "print(f\"Cantidad de valores en '0' {anom}\")\n",
    "\n",
    "# Buscamos valores en -\n",
    "anom = df[\"crew_aboard\"][df[\"crew_aboard\"] == \"-\"].count()\n",
    "print(f\"Cantidad de valores en '-' {anom}\")\n",
    "\n",
    "# Buscamos valores en ?\n",
    "anom = df[\"crew_aboard\"][df[\"crew_aboard\"] == \"?\"].count()\n",
    "print(f\"Cantidad de valores en '?' {anom}\")\n",
    "\n",
    "# con el fin de unificar criterios cambiamos \"?\"  con '0' \n",
    "df[\"crew_aboard\"][df[\"crew_aboard\"] == \"?\"] =  '0'\n",
    "anom = df[\"crew_aboard\"][df[\"crew_aboard\"] == \"?\"].count()\n",
    "print(f\"Cantidad de valores en '?' {anom}\")\n",
    "\n",
    "# convertir la columna su Dtype a int\n",
    "df[\"crew_aboard\"]= df[\"crew_aboard\"].astype(int)\n",
    "\n",
    "df[\"crew_aboard\"].info()\n",
    "\n"
   ]
  },
  {
   "attachments": {},
   "cell_type": "markdown",
   "metadata": {},
   "source": [
    "### Columna cantidad de fallecidos"
   ]
  },
  {
   "cell_type": "code",
   "execution_count": 197,
   "metadata": {},
   "outputs": [
    {
     "name": "stdout",
     "output_type": "stream",
     "text": [
      "<class 'pandas.core.series.Series'>\n",
      "RangeIndex: 5008 entries, 0 to 5007\n",
      "Series name: cantidad de fallecidos\n",
      "Non-Null Count  Dtype \n",
      "--------------  ----- \n",
      "5008 non-null   object\n",
      "dtypes: object(1)\n",
      "memory usage: 39.3+ KB\n",
      "\n",
      "Cantidad de valores en '0' 76\n",
      "Cantidad de valores en '-' 0\n",
      "Cantidad de valores en '?' 8\n",
      "Cantidad de valores en '?' 0\n",
      "<class 'pandas.core.series.Series'>\n",
      "RangeIndex: 5008 entries, 0 to 5007\n",
      "Series name: cantidad de fallecidos\n",
      "Non-Null Count  Dtype\n",
      "--------------  -----\n",
      "5008 non-null   int32\n",
      "dtypes: int32(1)\n",
      "memory usage: 19.7 KB\n"
     ]
    },
    {
     "name": "stderr",
     "output_type": "stream",
     "text": [
      "C:\\Users\\Alberto\\AppData\\Local\\Temp\\ipykernel_6704\\2370719933.py:17: SettingWithCopyWarning: \n",
      "A value is trying to be set on a copy of a slice from a DataFrame\n",
      "\n",
      "See the caveats in the documentation: https://pandas.pydata.org/pandas-docs/stable/user_guide/indexing.html#returning-a-view-versus-a-copy\n",
      "  df[\"cantidad de fallecidos\"][df[\"cantidad de fallecidos\"] == \"?\"] =  '0'\n"
     ]
    }
   ],
   "source": [
    "df[\"cantidad de fallecidos\"].info()\n",
    "print()\n",
    "# Buscamos valores en 0\n",
    "cero = df[\"cantidad de fallecidos\"][df[\"cantidad de fallecidos\"] == \"0\"].count()\n",
    "print(f\"Cantidad de valores en '0' {cero}\")\n",
    "\n",
    "# Buscamos valores en -\n",
    "anomal = df[\"cantidad de fallecidos\"][df[\"cantidad de fallecidos\"] == \"-\"].count()\n",
    "print(f\"Cantidad de valores en '-' {anomal}\")\n",
    "\n",
    "\n",
    "# Buscamos valores en \"?\"\n",
    "anomal = df[\"cantidad de fallecidos\"][df[\"cantidad de fallecidos\"] == \"?\"].count()\n",
    "print(f\"Cantidad de valores en '?' {anomal}\")\n",
    "\n",
    "# con el fin de unificar criterios cambiamos \"?\"  con '0' \n",
    "df[\"cantidad de fallecidos\"][df[\"cantidad de fallecidos\"] == \"?\"] =  '0'\n",
    "anomal = df[\"cantidad de fallecidos\"][df[\"cantidad de fallecidos\"] == \"?\"].count()\n",
    "print(f\"Cantidad de valores en '?' {anomal}\")\n",
    "\n",
    "# convertir la columna su Dtype a int\n",
    "df[\"cantidad de fallecidos\"]= df[\"cantidad de fallecidos\"].astype(int)\n",
    "\n",
    "df[\"cantidad de fallecidos\"].info()\n",
    "\n"
   ]
  },
  {
   "attachments": {},
   "cell_type": "markdown",
   "metadata": {},
   "source": [
    "### Columna passenger_fatalities"
   ]
  },
  {
   "cell_type": "code",
   "execution_count": 198,
   "metadata": {},
   "outputs": [
    {
     "name": "stdout",
     "output_type": "stream",
     "text": [
      "<class 'pandas.core.series.Series'>\n",
      "RangeIndex: 5008 entries, 0 to 5007\n",
      "Series name: passenger_fatalities\n",
      "Non-Null Count  Dtype \n",
      "--------------  ----- \n",
      "5008 non-null   object\n",
      "dtypes: object(1)\n",
      "memory usage: 39.3+ KB\n",
      "\n",
      "Cantidad de valores en '0' 1040\n",
      "Cantidad de valores en '-' 0\n",
      "Cantidad de valores en '?' 235\n",
      "Cantidad de valores en '?' 0\n",
      "<class 'pandas.core.series.Series'>\n",
      "RangeIndex: 5008 entries, 0 to 5007\n",
      "Series name: passenger_fatalities\n",
      "Non-Null Count  Dtype\n",
      "--------------  -----\n",
      "5008 non-null   int32\n",
      "dtypes: int32(1)\n",
      "memory usage: 19.7 KB\n"
     ]
    },
    {
     "name": "stderr",
     "output_type": "stream",
     "text": [
      "C:\\Users\\Alberto\\AppData\\Local\\Temp\\ipykernel_6704\\3355305595.py:17: SettingWithCopyWarning: \n",
      "A value is trying to be set on a copy of a slice from a DataFrame\n",
      "\n",
      "See the caveats in the documentation: https://pandas.pydata.org/pandas-docs/stable/user_guide/indexing.html#returning-a-view-versus-a-copy\n",
      "  df[\"passenger_fatalities\"][df[\"passenger_fatalities\"] == \"?\"] =  '0'\n"
     ]
    }
   ],
   "source": [
    "df[\"passenger_fatalities\"].info()\n",
    "print()\n",
    "\n",
    "# Buscamos valores en 0\n",
    "cero = df[\"passenger_fatalities\"][df[\"passenger_fatalities\"] == \"0\"].count()\n",
    "print(f\"Cantidad de valores en '0' {cero}\")\n",
    "\n",
    "# Buscamos valores en -\n",
    "guion = df[\"passenger_fatalities\"][df[\"passenger_fatalities\"] == \"-\"].count()\n",
    "print(f\"Cantidad de valores en '-' {guion}\")\n",
    "\n",
    "# Buscamos valores en \"?\"\n",
    "pregunta = df[\"passenger_fatalities\"][df[\"passenger_fatalities\"] == \"?\"].count()\n",
    "print(f\"Cantidad de valores en '?' {pregunta}\")\n",
    "\n",
    "# con el fin de unificar criterios cambiamos \"?\"  con '0' \n",
    "df[\"passenger_fatalities\"][df[\"passenger_fatalities\"] == \"?\"] =  '0'\n",
    "pregunta = df[\"passenger_fatalities\"][df[\"passenger_fatalities\"] == \"?\"].count()\n",
    "print(f\"Cantidad de valores en '?' {pregunta}\")\n",
    "\n",
    "# convertir la columna su Dtype a int\n",
    "df[\"passenger_fatalities\"]= df[\"passenger_fatalities\"].astype(int)\n",
    "\n",
    "df[\"passenger_fatalities\"].info()\n",
    "\n"
   ]
  },
  {
   "attachments": {},
   "cell_type": "markdown",
   "metadata": {},
   "source": [
    "### Columna crew_fatalities"
   ]
  },
  {
   "cell_type": "code",
   "execution_count": 199,
   "metadata": {},
   "outputs": [
    {
     "name": "stdout",
     "output_type": "stream",
     "text": [
      "<class 'pandas.core.series.Series'>\n",
      "RangeIndex: 5008 entries, 0 to 5007\n",
      "Series name: crew_fatalities\n",
      "Non-Null Count  Dtype \n",
      "--------------  ----- \n",
      "5008 non-null   object\n",
      "dtypes: object(1)\n",
      "memory usage: 39.3+ KB\n",
      "\n",
      "Cantidad de valores en '0' 400\n",
      "Cantidad de valores en '-' 0\n",
      "Cantidad de valores en '-' 235\n",
      "Cantidad de valores en '-' 0\n",
      "<class 'pandas.core.series.Series'>\n",
      "RangeIndex: 5008 entries, 0 to 5007\n",
      "Series name: crew_fatalities\n",
      "Non-Null Count  Dtype\n",
      "--------------  -----\n",
      "5008 non-null   int32\n",
      "dtypes: int32(1)\n",
      "memory usage: 19.7 KB\n"
     ]
    },
    {
     "name": "stderr",
     "output_type": "stream",
     "text": [
      "C:\\Users\\Alberto\\AppData\\Local\\Temp\\ipykernel_6704\\1060908931.py:17: SettingWithCopyWarning: \n",
      "A value is trying to be set on a copy of a slice from a DataFrame\n",
      "\n",
      "See the caveats in the documentation: https://pandas.pydata.org/pandas-docs/stable/user_guide/indexing.html#returning-a-view-versus-a-copy\n",
      "  df[\"crew_fatalities\"][df[\"crew_fatalities\"] == \"?\"] =  '0'\n"
     ]
    }
   ],
   "source": [
    "df[\"crew_fatalities\"].info()\n",
    "print()\n",
    "\n",
    "# Buscamos valores en 0\n",
    "cero = df[\"crew_fatalities\"][df[\"crew_fatalities\"] == \"0\"].count()\n",
    "print(f\"Cantidad de valores en '0' {cero}\")\n",
    "\n",
    "# Buscamos valores en -\n",
    "guion = df[\"crew_fatalities\"][df[\"crew_fatalities\"] == \"-\"].count()\n",
    "print(f\"Cantidad de valores en '-' {guion}\")\n",
    "\n",
    "# Buscamos valores en ?\n",
    "pregunta = df[\"crew_fatalities\"][df[\"crew_fatalities\"] == \"?\"].count()\n",
    "print(f\"Cantidad de valores en '-' {pregunta}\")\n",
    "\n",
    "# con el fin de unificar criterios cambiamos \"?\"  con '0' \n",
    "df[\"crew_fatalities\"][df[\"crew_fatalities\"] == \"?\"] =  '0'\n",
    "pregunta = df[\"crew_fatalities\"][df[\"crew_fatalities\"] == \"?\"].count()\n",
    "print(f\"Cantidad de valores en '-' {pregunta}\")\n",
    "\n",
    "# convertir la columna su Dtype a int\n",
    "df[\"crew_fatalities\"]= df[\"crew_fatalities\"].astype(int)\n",
    "\n",
    "df[\"crew_fatalities\"].info()\n",
    "\n"
   ]
  },
  {
   "attachments": {},
   "cell_type": "markdown",
   "metadata": {},
   "source": []
  },
  {
   "cell_type": "code",
   "execution_count": 200,
   "metadata": {},
   "outputs": [
    {
     "name": "stdout",
     "output_type": "stream",
     "text": [
      "<class 'pandas.core.series.Series'>\n",
      "RangeIndex: 5008 entries, 0 to 5007\n",
      "Series name: ground\n",
      "Non-Null Count  Dtype \n",
      "--------------  ----- \n",
      "5008 non-null   object\n",
      "dtypes: object(1)\n",
      "memory usage: 39.3+ KB\n",
      "\n",
      "Cantidad de valores en '0' 4716\n",
      "Cantidad de valores en '-' 0\n",
      "Cantidad de valores en '?' 44\n",
      "Cantidad de valores en '?' 0\n",
      "<class 'pandas.core.series.Series'>\n",
      "RangeIndex: 5008 entries, 0 to 5007\n",
      "Series name: ground\n",
      "Non-Null Count  Dtype\n",
      "--------------  -----\n",
      "5008 non-null   int32\n",
      "dtypes: int32(1)\n",
      "memory usage: 19.7 KB\n"
     ]
    },
    {
     "name": "stderr",
     "output_type": "stream",
     "text": [
      "C:\\Users\\Alberto\\AppData\\Local\\Temp\\ipykernel_6704\\1738800697.py:16: SettingWithCopyWarning: \n",
      "A value is trying to be set on a copy of a slice from a DataFrame\n",
      "\n",
      "See the caveats in the documentation: https://pandas.pydata.org/pandas-docs/stable/user_guide/indexing.html#returning-a-view-versus-a-copy\n",
      "  df[\"ground\"][df[\"ground\"] == \"?\"] =  '0'\n"
     ]
    }
   ],
   "source": [
    "df[\"ground\"].info()\n",
    "print()\n",
    "# Buscamos valores en 0\n",
    "cero = df[\"ground\"][df[\"ground\"] == \"0\"].count()\n",
    "print(f\"Cantidad de valores en '0' {cero}\")\n",
    "\n",
    "# Buscamos valores en -\n",
    "guion = df[\"ground\"][df[\"ground\"] == \"-\"].count()\n",
    "print(f\"Cantidad de valores en '-' {guion}\")\n",
    "\n",
    "# Buscamos valores en ?\n",
    "pregunta = df[\"ground\"][df[\"ground\"] == \"?\"].count()\n",
    "print(f\"Cantidad de valores en '?' {pregunta}\")\n",
    "\n",
    "# con el fin de unificar criterios cambiamos \"?\"  con '0' \n",
    "df[\"ground\"][df[\"ground\"] == \"?\"] =  '0'\n",
    "pregunta = df[\"ground\"][df[\"ground\"] == \"?\"].count()\n",
    "print(f\"Cantidad de valores en '?' {pregunta}\")\n",
    "\n",
    "# convertir la columna su Dtype a int\n",
    "df[\"ground\"]= df[\"ground\"].astype(int)\n",
    "\n",
    "df[\"ground\"].info()\n",
    "\n"
   ]
  },
  {
   "attachments": {},
   "cell_type": "markdown",
   "metadata": {},
   "source": [
    "******************************"
   ]
  },
  {
   "cell_type": "code",
   "execution_count": 201,
   "metadata": {},
   "outputs": [],
   "source": [
    "df[\"Operador\"].to_csv(\"./DataSet/Operador/OperadorList.csv\", sep=\";\", index=False, encoding='utf-8-sig')"
   ]
  },
  {
   "attachments": {},
   "cell_type": "markdown",
   "metadata": {},
   "source": [
    "### Creamos una nuevo Data "
   ]
  },
  {
   "cell_type": "code",
   "execution_count": 202,
   "metadata": {},
   "outputs": [],
   "source": [
    "\n",
    "df.to_csv(\"./DataSet/AccidentesAviones_normalizada.csv\", sep=\";\", index=False)"
   ]
  },
  {
   "attachments": {},
   "cell_type": "markdown",
   "metadata": {},
   "source": [
    "# Creamos una columna llamada 'Lugar_Despegue'\n"
   ]
  },
  {
   "cell_type": "code",
   "execution_count": 203,
   "metadata": {},
   "outputs": [
    {
     "name": "stdout",
     "output_type": "stream",
     "text": [
      "Cantidad de valores en 0 0\n"
     ]
    }
   ],
   "source": [
    "# Buscamos valores en 0\n",
    "ceros = df[\"Ruta\"][df[\"Ruta\"] == \"0\"].count()\n",
    "print(f\"Cantidad de valores en 0 {ceros}\")\n"
   ]
  },
  {
   "attachments": {},
   "cell_type": "markdown",
   "metadata": {},
   "source": [
    "#### Creamos una lista de países De la columna lugar de despegue"
   ]
  },
  {
   "cell_type": "code",
   "execution_count": 205,
   "metadata": {},
   "outputs": [],
   "source": [
    "\n",
    "df[\"Lugar_Despegue\"] =df[\"route\"].str.split(\"-\").str.get(0)\n",
    "mf = df.drop(df[df[\"route\"] == 'Ruta no Definida'].index)\n",
    "mf = mf.drop_duplicates(subset= \"Lugar_Despegue\")\n",
    "mf = mf.drop_duplicates(subset= \"Lugar_Despegue\")\n",
    "mf = mf.drop(mf[mf[\"Unnamed: 0\"]== 0].index)\n",
    "mf = mf.drop(mf[mf[\"Unnamed: 0\"]== 26].index)\n",
    "mf = mf.drop(mf[mf[\"Unnamed: 0\"]== 3173].index)\n",
    "\n",
    "mf.to_csv(\"./DataSet/lugar_despegue/lugares_despegue.csv\", sep=\";\", index=False, encoding='utf-8-sig') \n",
    "\n",
    "        "
   ]
  },
  {
   "cell_type": "code",
   "execution_count": null,
   "metadata": {},
   "outputs": [
    {
     "data": {
      "text/plain": [
       "Index(['Lugar_Despegue', 'Pais'], dtype='object')"
      ]
     },
     "execution_count": 152,
     "metadata": {},
     "output_type": "execute_result"
    }
   ],
   "source": [
    "df_paises_lugares_despegue = pd.read_csv(\"./DataSet/lugar_despegue/lugares_despegue_pais.csv\", sep=\";\")\n",
    "df_paises_lugares_despegue.columns"
   ]
  },
  {
   "cell_type": "markdown",
   "metadata": {},
   "source": [
    "\n",
    "df_paises_lugares_despegue = df_paises_lugares_despegue[\"Pais\"]\n",
    "df_paises_lugares_despegue = df_paises_lugares_despegue.drop_duplicates()\n",
    "df_paises_lugares_despegue\n",
    "# se crea un csv con los paises de lugares de despegue\n",
    "df_paises_lugares_despegue.to_csv(\"./DataSet/lugar_despegue/despegue_pais.csv\", sep=\";\", index=False, encoding='utf-8-sig')\n"
   ]
  },
  {
   "cell_type": "code",
   "execution_count": null,
   "metadata": {},
   "outputs": [],
   "source": []
  },
  {
   "cell_type": "code",
   "execution_count": null,
   "metadata": {},
   "outputs": [],
   "source": []
  },
  {
   "attachments": {},
   "cell_type": "markdown",
   "metadata": {},
   "source": [
    "******************************"
   ]
  },
  {
   "attachments": {},
   "cell_type": "markdown",
   "metadata": {},
   "source": [
    "******************************"
   ]
  },
  {
   "attachments": {},
   "cell_type": "markdown",
   "metadata": {},
   "source": [
    "# Query de Power BI"
   ]
  },
  {
   "cell_type": "code",
   "execution_count": null,
   "metadata": {},
   "outputs": [],
   "source": [
    "# En la columna Ruta de cambian los valores \"?\" por 'Ruta no Definida' \n",
    "#df[\"Ruta\"][df[\"Ruta\"] == \"?\"] =  'Ruta no Definida'\n",
    "\n",
    "# Cambiamos el nombre de la columnas de OperadOR por Operador\n",
    "#df.rename(columns={\"OperadOR\": \"Operador\"})\n",
    "\n",
    "# Los valores con '?' se cambian a 'Operador no Definida'\n",
    "# df[\"Operador\"][df[\"Operador\"] == \"?\"] =  'Operador no Definida'\n",
    "\n",
    "# con el fin de unificar criterios cambiamos \"?\" y \"-\" con 'flight no Definida' \n",
    "# df[\"flight_no\"][(df[\"flight_no\"] == \"?\") | (df[\"flight_no\"] == \"-\")] =  'flight no Definida'\n",
    "\n",
    "# con el fin de unificar criterios cambiamos \"?\"  con 'ruta no Definida' \n",
    "# df[\"route\"][(df[\"route\"] == \"?\") | (df[\"route\"] == \"-\")] =  'Ruta no Definida'\n",
    "\n",
    "# con el fin de unificar criterios cambiamos \"?\"  con 'Tipo de Avion no Definida' \n",
    "# df[\"ac_type\"][(df[\"ac_type\"] == \"?\") | (df[\"ac_type\"] == \"-\")] =  'Tipo de Avion no Definida'\n",
    "\n",
    "# con el fin de unificar criterios cambiamos \"?\"  con 'Placa no Definida' \n",
    "# df[\"registration\"][df[\"registration\"] == \"?\"] =  'Placa de Avion no Definida'\n",
    "\n",
    "# con el fin de unificar criterios cambiamos \"?\"  con 'cn_ln no Definida' \n",
    "# df[\"cn_ln\"][df[\"cn_ln\"] == \"?\"] =  'cn_ln no Definida'\n",
    "\n",
    "# con el fin de unificar criterios cambiamos \"?\"  con '0' \n",
    "# df[\"all_aboard\"][(df[\"all_aboard\"] == \"?\")] =  '0'\n",
    "\n",
    "\n",
    "# con el fin de unificar criterios cambiamos \"?\"  con '0' \n",
    "# df[\"PASAJEROS A BORDO\"][df[\"PASAJEROS A BORDO\"] == \"?\"] =  '0'\n",
    "\n",
    "# con el fin de unificar criterios cambiamos \"?\"  con '0' \n",
    "# df[\"crew_aboard\"][df[\"crew_aboard\"] == \"?\"] =  '0'\n",
    "\n"
   ]
  },
  {
   "attachments": {},
   "cell_type": "markdown",
   "metadata": {},
   "source": [
    "me puedes dar un lisatado unicamente con lugar y pais  del siguiente listado de lugares"
   ]
  }
 ],
 "metadata": {
  "kernelspec": {
   "display_name": "Python 3",
   "language": "python",
   "name": "python3"
  },
  "language_info": {
   "codemirror_mode": {
    "name": "ipython",
    "version": 3
   },
   "file_extension": ".py",
   "mimetype": "text/x-python",
   "name": "python",
   "nbconvert_exporter": "python",
   "pygments_lexer": "ipython3",
   "version": "3.11.3"
  },
  "orig_nbformat": 4
 },
 "nbformat": 4,
 "nbformat_minor": 2
}
